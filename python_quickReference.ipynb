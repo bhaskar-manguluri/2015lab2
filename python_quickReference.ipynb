{
 "cells": [
  {
   "cell_type": "markdown",
   "metadata": {},
   "source": [
    "This tutorial can be used for a quick reference/crash course for python libraries:numpy,scipy,matplotlib. Tutorial is based on https://github.com/kuleshov/cs228-material/blob/master/tutorials/python/cs228-python-tutorial.ipynb which is written for same purpose\n",
    "Tutorial is written in python 3.6.0"
   ]
  },
  {
   "cell_type": "code",
   "execution_count": 21,
   "metadata": {
    "collapsed": false
   },
   "outputs": [],
   "source": [
    "%matplotlib inline\n",
    "import numpy as np\n",
    "import scipy as sp\n",
    "import matplotlib as mpl\n",
    "import matplotlib.cm as cm\n",
    "import matplotlib.pyplot as plt"
   ]
  },
  {
   "cell_type": "markdown",
   "metadata": {},
   "source": [
    "reading python code is similar to reading a pseudo code such is the structure of the language\n",
    "here is an implementation of quicksort algorithm in python"
   ]
  },
  {
   "cell_type": "code",
   "execution_count": 22,
   "metadata": {
    "collapsed": false
   },
   "outputs": [
    {
     "data": {
      "text/plain": [
       "[1, 1, 2, 3, 6, 8, 10]"
      ]
     },
     "execution_count": 22,
     "metadata": {},
     "output_type": "execute_result"
    }
   ],
   "source": [
    "def quicksort(X):\n",
    "    if len(X) <= 1:\n",
    "        return X\n",
    "    pivot = X[len(X)//2] #using roughly middle element of the array as pivot\n",
    "    left = [x for x in X if x < pivot]\n",
    "    middle = [x for x in X if x == pivot]\n",
    "    right = [x for x in X if x > pivot]\n",
    "    return quicksort(left)+middle+quicksort(right)\n",
    "quicksort([3,6,8,10,1,2,1])"
   ]
  },
  {
   "cell_type": "markdown",
   "metadata": {},
   "source": [
    "## Basic data types\n",
    "\n",
    "- ***int and float***"
   ]
  },
  {
   "cell_type": "code",
   "execution_count": 23,
   "metadata": {
    "collapsed": false
   },
   "outputs": [
    {
     "name": "stdout",
     "output_type": "stream",
     "text": [
      "type of  <class 'int'> type of y <class 'float'>\n",
      "5\n",
      "6\n",
      "2\n",
      "1.0\n",
      "1\n",
      "9\n",
      "4\n",
      "8\n"
     ]
    }
   ],
   "source": [
    "x = 3\n",
    "y= 5.0\n",
    "print(\"type of \",type(x),\"type of y\",type(y))\n",
    "print(x+2)  # additon \n",
    "print(x*2)  # multiplication\n",
    "print(x-1)  # subraction\n",
    "print(x/3)  # division\n",
    "print(x//3) # floor\n",
    "print(x**2) #exponentation\n",
    "x+=1\n",
    "print(x) # increment and assign\n",
    "x*=2\n",
    "print(x) # multiply and assign"
   ]
  },
  {
   "cell_type": "code",
   "execution_count": 5,
   "metadata": {
    "collapsed": false
   },
   "outputs": [
    {
     "ename": "SyntaxError",
     "evalue": "invalid syntax (<ipython-input-5-77f4531f2da2>, line 1)",
     "output_type": "error",
     "traceback": [
      "\u001b[0;36m  File \u001b[0;32m\"<ipython-input-5-77f4531f2da2>\"\u001b[0;36m, line \u001b[0;32m1\u001b[0m\n\u001b[0;31m    x++\u001b[0m\n\u001b[0m       ^\u001b[0m\n\u001b[0;31mSyntaxError\u001b[0m\u001b[0;31m:\u001b[0m invalid syntax\n"
     ]
    }
   ],
   "source": [
    "x++"
   ]
  },
  {
   "cell_type": "markdown",
   "metadata": {},
   "source": [
    "do not have x++ kind of operator like in java or other languages\n",
    "\n",
    "complete doculment can be found at https://docs.python.org/3/library/stdtypes.html#numeric-types-int-float-long-complex"
   ]
  },
  {
   "cell_type": "markdown",
   "metadata": {},
   "source": [
    "- ***Booleans***"
   ]
  },
  {
   "cell_type": "markdown",
   "metadata": {},
   "source": [
    "python uses english words and symbols like & | for boolean operations"
   ]
  },
  {
   "cell_type": "code",
   "execution_count": 24,
   "metadata": {
    "collapsed": false
   },
   "outputs": [
    {
     "name": "stdout",
     "output_type": "stream",
     "text": [
      "True\n",
      "True\n",
      "False\n",
      "False\n",
      "False\n",
      "True\n",
      "<class 'bool'>\n"
     ]
    }
   ],
   "source": [
    "t = True\n",
    "f = False\n",
    "print(t or f)\n",
    "print(t | f)\n",
    "print(t & f)\n",
    "print(t and f)\n",
    "print( not t)\n",
    "print(t != f) # XOR\n",
    "print(type(t))"
   ]
  },
  {
   "cell_type": "markdown",
   "metadata": {},
   "source": [
    "- ***Strings***"
   ]
  },
  {
   "cell_type": "code",
   "execution_count": 27,
   "metadata": {
    "collapsed": false
   },
   "outputs": [
    {
     "name": "stdout",
     "output_type": "stream",
     "text": [
      "hello\n",
      "hello world\n",
      "5\n",
      "hello world 12\n"
     ]
    }
   ],
   "source": [
    "hello = 'hello'\n",
    "world = \"world\" # using single or double quote doesn't matter\n",
    "print(hello)\n",
    "print(hello+\" \"+world) # concatenation\n",
    "print(len(hello))\n",
    "print('%s %s %d' % (hello, world, 12)) # print f style formatting"
   ]
  },
  {
   "cell_type": "markdown",
   "metadata": {},
   "source": [
    "***useful string operations***\n",
    "\n",
    "full doc at https://docs.python.org/3/library/stdtypes.html#string-methods"
   ]
  },
  {
   "cell_type": "code",
   "execution_count": 28,
   "metadata": {
    "collapsed": false
   },
   "outputs": [
    {
     "name": "stdout",
     "output_type": "stream",
     "text": [
      "Hello\n",
      "HELLO\n",
      "  hello\n",
      " hello \n",
      "world\n",
      "heelelo\n"
     ]
    }
   ],
   "source": [
    "print(hello.capitalize()) # capitalise first letter\n",
    "print(hello.upper()) # caps letters\n",
    "print(hello.rjust(7)) # right adjust\n",
    "print(hello.center(7)) # center just\n",
    "print(\"  world  \".strip())\n",
    "print(hello.replace('l','el')) # replace substring"
   ]
  },
  {
   "cell_type": "markdown",
   "metadata": {},
   "source": [
    "## Containers\n",
    "\n",
    "built in container types list,dictionaries,sets,tuples"
   ]
  },
  {
   "cell_type": "markdown",
   "metadata": {},
   "source": [
    "### Lists\n",
    "\n",
    "  lists is equivalent of array, but it can have elements of different types and is resizable\n",
    "  \n",
    "  indexing in python starts at 0 as opposed to some languages like R\n",
    "  \n",
    "  complete documentation can be fouund at "
   ]
  },
  {
   "cell_type": "code",
   "execution_count": 29,
   "metadata": {
    "collapsed": false
   },
   "outputs": [
    {
     "name": "stdout",
     "output_type": "stream",
     "text": [
      "[2, 3, 4]\n",
      "4\n",
      "4\n",
      "[2, 3, 4]\n",
      "[2, 3, 4, 'bar']\n",
      "bar\n"
     ]
    }
   ],
   "source": [
    "X = [2,3,4]\n",
    "print(X)\n",
    "print(X[2]) # indexing\n",
    "print(X[-1]) # negative indexing counts from the end\n",
    "X[2] == \"foo\" # list can have elements of different types\n",
    "print(X)\n",
    "X.append(\"bar\") #adding new elements\n",
    "print(X)\n",
    "print(X.pop()) # remove and return the last element of the list"
   ]
  },
  {
   "cell_type": "markdown",
   "metadata": {},
   "source": [
    "#### Slicing\n",
    "\n",
    "can be used to subset lists\n",
    "\n",
    "the genearal syntax for slicing a is **a[start:stop:step]** or **a[start:stop, i]** or using **itertools.isslice()**"
   ]
  },
  {
   "cell_type": "code",
   "execution_count": 30,
   "metadata": {
    "collapsed": false
   },
   "outputs": [
    {
     "name": "stdout",
     "output_type": "stream",
     "text": [
      "<class 'range'>\n",
      "[0, 1, 2, 3, 4]\n",
      "[2, 3]\n",
      "[2, 3, 4]\n",
      "[0, 1]\n",
      "[0, 1, 2, 3, 4]\n",
      "[0, 1, 2, 3]\n",
      "[0, 1, 8, 9, 4]\n"
     ]
    },
    {
     "data": {
      "text/plain": [
       "[0, 8]"
      ]
     },
     "execution_count": 30,
     "metadata": {},
     "output_type": "execute_result"
    }
   ],
   "source": [
    "#slice = subset\n",
    "nums = range(5) # range is a built in function that generates an iterator\n",
    "print(type(nums))# in python 3.X range is a iterator so to create lists we need to convert it\n",
    "print(list(nums))\n",
    "nums = list(nums)\n",
    "print(nums[2:4]) # start at pos 2 , end at 4 (start inclusive,end exclusive)\n",
    "print(nums[2:]) #slice from 2  to end\n",
    "print(nums[:2]) # slice from start to 2\n",
    "print(nums[:]) # complete slice\n",
    "print(nums[:-1]) # slice leaving last element\n",
    "nums[2:4] = [8,9] # assigning a new subset\n",
    "print(nums)\n",
    "nums[0:3:2] # start = 0,end=3,step =2"
   ]
  },
  {
   "cell_type": "markdown",
   "metadata": {},
   "source": [
    "slicing will be revisited in numpy arrays"
   ]
  },
  {
   "cell_type": "markdown",
   "metadata": {},
   "source": [
    "#### Looping"
   ]
  },
  {
   "cell_type": "markdown",
   "metadata": {},
   "source": [
    "*** can loop over elements in a list like: ***"
   ]
  },
  {
   "cell_type": "code",
   "execution_count": 32,
   "metadata": {
    "collapsed": false
   },
   "outputs": [
    {
     "name": "stdout",
     "output_type": "stream",
     "text": [
      "cr7\n",
      "rafa\n",
      "ramos\n"
     ]
    }
   ],
   "source": [
    "athletes = [\"cr7\",\"rafa\",\"ramos\"]\n",
    "for x in athletes:\n",
    "    print(x)"
   ]
  },
  {
   "cell_type": "markdown",
   "metadata": {},
   "source": [
    "***or loop like (index,element) using enumerate as: ***"
   ]
  },
  {
   "cell_type": "code",
   "execution_count": 35,
   "metadata": {
    "collapsed": false
   },
   "outputs": [
    {
     "name": "stdout",
     "output_type": "stream",
     "text": [
      "0\n",
      "<class 'int'>\n",
      "1\n",
      "<class 'int'>\n",
      "2\n",
      "<class 'int'>\n",
      "(0, 'cr7')\n",
      "(1, 'rafa')\n",
      "(2, 'ramos')\n"
     ]
    }
   ],
   "source": [
    "for index,element in enumerate(athletes):\n",
    "    print(index)\n",
    "    print(type(index))\n",
    "for tup in enumerate(athletes):\n",
    "    print(tup)\n",
    "    print(type(tup))\n",
    "# if left hand side (like index,element) is same size as right hand size tuples are automatically unboxed"
   ]
  },
  {
   "cell_type": "markdown",
   "metadata": {},
   "source": [
    "### List comprehension\n",
    "\n",
    "in programming we often want to transform one type of data into another, for example: "
   ]
  },
  {
   "cell_type": "code",
   "execution_count": 36,
   "metadata": {
    "collapsed": false
   },
   "outputs": [
    {
     "name": "stdout",
     "output_type": "stream",
     "text": [
      "[1, 4, 9, 16]\n"
     ]
    }
   ],
   "source": [
    "X = [1,2,3,4]\n",
    "squaredX = []\n",
    "for x in X:\n",
    "    squaredX.append(x**2)\n",
    "print(squaredX)"
   ]
  },
  {
   "cell_type": "markdown",
   "metadata": {},
   "source": [
    "this can be made in one line using list comprehension as\n"
   ]
  },
  {
   "cell_type": "code",
   "execution_count": 37,
   "metadata": {
    "collapsed": false
   },
   "outputs": [
    {
     "name": "stdout",
     "output_type": "stream",
     "text": [
      "[1, 4, 9, 16]\n"
     ]
    }
   ],
   "source": [
    "squaredX = [x**2 for x in X]\n",
    "print(squaredX)"
   ]
  },
  {
   "cell_type": "markdown",
   "metadata": {},
   "source": [
    "list comprehensions can have conditions "
   ]
  },
  {
   "cell_type": "code",
   "execution_count": 38,
   "metadata": {
    "collapsed": false
   },
   "outputs": [
    {
     "name": "stdout",
     "output_type": "stream",
     "text": [
      "[4, 16]\n"
     ]
    }
   ],
   "source": [
    "evenXSquared = [x**2 for x in X if x%2==0]\n",
    "print(evenXSquared)"
   ]
  },
  {
   "cell_type": "markdown",
   "metadata": {},
   "source": [
    " ### Dictionaries\n",
    "\n",
    "  like map in Java"
   ]
  },
  {
   "cell_type": "code",
   "execution_count": 40,
   "metadata": {
    "collapsed": false
   },
   "outputs": [
    {
     "name": "stdout",
     "output_type": "stream",
     "text": [
      "forward\n",
      "True\n",
      "False\n",
      "{'cr7': 'forward', 'benz': 'forward', 'carvajal': 'defender', 'modric': 'midfield'}\n",
      "N/A\n",
      "midfield\n"
     ]
    },
    {
     "data": {
      "text/plain": [
       "{'benz': 'forward', 'cr7': 'forward', 'modric': 'midfield'}"
      ]
     },
     "execution_count": 40,
     "metadata": {},
     "output_type": "execute_result"
    }
   ],
   "source": [
    "d = {\"cr7\":\"forward\",\"benz\":\"forward\",\"carvajal\":\"defender\"}\n",
    "print(d[\"cr7\"])\n",
    "print(\"cr7\" in d) # check for key\n",
    "print(\"modric\" in d)\n",
    "d[\"modric\"] = \"midfield\" #adding new element\n",
    "print(d)\n",
    "print(d.get(\"bale\",\"N/A\")) # getter, useful to define deault output\n",
    "print(d.get(\"modric\",\"N/A\"))\n",
    "del(d['carvajal'])\n",
    "d"
   ]
  },
  {
   "cell_type": "markdown",
   "metadata": {},
   "source": [
    "#### Looping dictionaries\n",
    "iterate over keys:"
   ]
  },
  {
   "cell_type": "code",
   "execution_count": 42,
   "metadata": {
    "collapsed": false
   },
   "outputs": [
    {
     "name": "stdout",
     "output_type": "stream",
     "text": [
      "cr7\n",
      "forward\n",
      "('cr7', 'forward')\n",
      "A cr7 has forward legs\n",
      "benz\n",
      "forward\n",
      "('benz', 'forward')\n",
      "A benz has forward legs\n",
      "modric\n",
      "midfield\n",
      "('modric', 'midfield')\n",
      "A modric has midfield legs\n"
     ]
    }
   ],
   "source": [
    "for key in d :\n",
    "    print(key)\n",
    "    value = d[key]\n",
    "    print(value)\n",
    "    print((key,value))\n",
    "    print('A %s has %s legs' % (key, value))"
   ]
  },
  {
   "cell_type": "markdown",
   "metadata": {},
   "source": [
    "key and value can be accessed by items function :"
   ]
  },
  {
   "cell_type": "code",
   "execution_count": 43,
   "metadata": {
    "collapsed": false
   },
   "outputs": [
    {
     "name": "stdout",
     "output_type": "stream",
     "text": [
      "('cr7', 'forward')\n",
      "('benz', 'forward')\n",
      "('modric', 'midfield')\n"
     ]
    }
   ],
   "source": [
    "for key,value in d.items():\n",
    "    print((key,value))"
   ]
  },
  {
   "cell_type": "markdown",
   "metadata": {},
   "source": [
    "#### Dictionary comprehension\n"
   ]
  },
  {
   "cell_type": "code",
   "execution_count": 45,
   "metadata": {
    "collapsed": false
   },
   "outputs": [
    {
     "name": "stdout",
     "output_type": "stream",
     "text": [
      "{2: 4, 4: 16}\n"
     ]
    }
   ],
   "source": [
    "squaredX = {x : x ** 2 for x in X if x % 2==0}\n",
    "print(squaredX)\n",
    "# list comprehension [] dictionary comprehension {key:value for iteration if condition} generator comprehension ()"
   ]
  },
  {
   "cell_type": "markdown",
   "metadata": {},
   "source": [
    "### sets\n",
    "  unordered collection of distinct elements"
   ]
  },
  {
   "cell_type": "code",
   "execution_count": 46,
   "metadata": {
    "collapsed": false
   },
   "outputs": [
    {
     "name": "stdout",
     "output_type": "stream",
     "text": [
      "False\n",
      "{'city', 'audi', 'mercedes', 'lamborghini', 'swift'}\n",
      "5\n",
      "{'city', 'audi', 'mercedes', 'swift'}\n"
     ]
    }
   ],
   "source": [
    "cars = {'audi','mercedes','lamborghini','swift'}\n",
    "print('innova' in cars)\n",
    "cars.add('city')\n",
    "print(cars)\n",
    "print(len(cars))\n",
    "cars.remove('lamborghini')\n",
    "print(cars)"
   ]
  },
  {
   "cell_type": "markdown",
   "metadata": {},
   "source": [
    "#### loops and comprehensions"
   ]
  },
  {
   "cell_type": "code",
   "execution_count": 47,
   "metadata": {
    "collapsed": false
   },
   "outputs": [
    {
     "name": "stdout",
     "output_type": "stream",
     "text": [
      "city\n",
      "audi\n",
      "mercedes\n",
      "swift\n",
      "1:city\n",
      "2:audi\n",
      "3:mercedes\n",
      "4:swift\n"
     ]
    },
    {
     "data": {
      "text/plain": [
       "{0, 1, 2, 3, 4, 5}"
      ]
     },
     "execution_count": 47,
     "metadata": {},
     "output_type": "execute_result"
    }
   ],
   "source": [
    "for x in cars:\n",
    "    print(x)\n",
    "for index,car in enumerate(cars):\n",
    "    print('%d:%s' % (index+1,car))\n",
    "from math import sqrt\n",
    "nums = {int(sqrt(x)) for x in range(30)} \n",
    "nums # 6 distinct integers for 30 numbers"
   ]
  },
  {
   "cell_type": "markdown",
   "metadata": {},
   "source": [
    "### Tuples\n",
    "Immutable ordered list of values, similar to list .\n",
    "\n",
    "Tuples can be used as keys in dictionary and elements in sets where as lists cannot be used"
   ]
  },
  {
   "cell_type": "code",
   "execution_count": 48,
   "metadata": {
    "collapsed": false
   },
   "outputs": [
    {
     "name": "stdout",
     "output_type": "stream",
     "text": [
      "<class 'tuple'>\n",
      "<class 'set'>\n",
      "{(1, 2), (3, 4), (2, 3), (4, 5)}\n",
      "<class 'dict'>\n",
      "{(0, 1): 0, (1, 2): 1, (2, 3): 2, (3, 4): 3, (4, 5): 4, (5, 6): 5, (6, 7): 6, (7, 8): 7, (8, 9): 8, (9, 10): 9}\n"
     ]
    },
    {
     "data": {
      "text/plain": [
       "5"
      ]
     },
     "execution_count": 48,
     "metadata": {},
     "output_type": "execute_result"
    }
   ],
   "source": [
    "numbers = (1,2,3) # create tuple\n",
    "print(type(numbers))\n",
    "d = {(x,x+1) for x in X} #as values in set\n",
    "print(type(d))\n",
    "print(d)\n",
    "d = {(x,x+1):x for x in range(10)} # as keys in dictionaries\n",
    "print(type(d))\n",
    "print(d)\n",
    "t= (5,6)\n",
    "d[t]"
   ]
  },
  {
   "cell_type": "markdown",
   "metadata": {},
   "source": [
    "### Functions\n",
    "def my_func(arg1, arg2, opt1=True, opt2=\"CS109\", *args, **kwargs)\n",
    "\n",
    "this is the order of vaious types of arguments when defining a function \n",
    "1. can have default values\n",
    "2. *args is used for arbitrary number of arguments\n",
    "3. **kwargs are used for keyword arguments\n"
   ]
  },
  {
   "cell_type": "code",
   "execution_count": 50,
   "metadata": {
    "collapsed": false
   },
   "outputs": [
    {
     "name": "stdout",
     "output_type": "stream",
     "text": [
      "Realmadrid is a football club\n",
      "it employes people working in different roles\n",
      "coach\n",
      "assistant\n",
      "president\n",
      "goalkeeping coach\n",
      "video analyst\n",
      "\n",
      "key players are\n",
      "forward : cristiano\n",
      "winger : marcelo\n",
      "midfielder : modric\n",
      "defender : ramos\n",
      "\n",
      "Mumbai Indians is a cricket club\n",
      "it employes people working in different roles\n",
      "coach\n",
      "ceo\n",
      "fielding coach\n",
      "bowling coach\n",
      "\n",
      "key players are\n",
      "opener : Parthiv\n",
      "fouthPosition : Rohit\n",
      "Bowler : Malinga\n"
     ]
    }
   ],
   "source": [
    "# the proposed order is arg,arg=\" with default\",*arbitraty_args,**keyWordArgs\n",
    "# but in that way we cant use the default value and arbitrary args,hence using in style below\n",
    "def myfunc(name, *jobs,sport=\"football\",**players):\n",
    "    print(name, \"is a\",sport,\"club\")\n",
    "    print(\"it employes people working in different roles\")\n",
    "    for job in jobs:\n",
    "        print(job)\n",
    "    print()\n",
    "    print(\"key players are\")\n",
    "    for player in players:\n",
    "        print(player,\":\",players[player])\n",
    "myfunc(\"Realmadrid\",\"coach\",\"assistant\",\"president\",\"goalkeeping coach\",\"video analyst\",forward=\"cristiano\",winger=\"marcelo\",midfielder=\"modric\",defender=\"ramos\")\n",
    "print()\n",
    "myfunc(\"Mumbai Indians\",\"coach\",\"ceo\",\"fielding coach\",\"bowling coach\",sport=\"cricket\",opener=\"Parthiv\",fouthPosition=\"Rohit\",Bowler=\"Malinga\")\n"
   ]
  },
  {
   "cell_type": "markdown",
   "metadata": {},
   "source": [
    "**FUCTION CAN RETURN A FUNCTION** ***use of lambdas***"
   ]
  },
  {
   "cell_type": "code",
   "execution_count": 52,
   "metadata": {
    "collapsed": false
   },
   "outputs": [
    {
     "data": {
      "text/plain": [
       "[0, 2, 4, 6, 8]"
      ]
     },
     "execution_count": 52,
     "metadata": {},
     "output_type": "execute_result"
    }
   ],
   "source": [
    "def make_function(parity):\n",
    "    if parity == 'even':\n",
    "        matches_fun = lambda x:x%2 == 0\n",
    "    elif parity == 'odd':\n",
    "        matches_fun = lambda x:x%2 !=0\n",
    "    else:\n",
    "        raise AttributeError('parity can only be even or odd ',parity)\n",
    "    def ret_fun(numbers):\n",
    "        liste = [num for num in numbers if matches_fun(num)]\n",
    "        return liste\n",
    "    return ret_fun\n",
    "even_nums = make_function('even')\n",
    "even_nums(range(10))\n",
    "#error_fun = make_function('himalayas')\n"
   ]
  },
  {
   "cell_type": "markdown",
   "metadata": {},
   "source": [
    "## Classes\n",
    "python class syntax is pretty straight forward, it has ***constructor,class variables, instant variables and instance methods***"
   ]
  },
  {
   "cell_type": "code",
   "execution_count": 53,
   "metadata": {
    "collapsed": false
   },
   "outputs": [
    {
     "name": "stdout",
     "output_type": "stream",
     "text": [
      "The name is Bond, James Bond\n",
      "Person:James Rodriguez\n"
     ]
    },
    {
     "data": {
      "text/plain": [
       "'The name is Rodriguez, James Rodriguez'"
      ]
     },
     "execution_count": 53,
     "metadata": {},
     "output_type": "execute_result"
    }
   ],
   "source": [
    " class Person():\n",
    "    def __init__(self,fname = \"James\",lname = \"Bond\"):\n",
    "        self.first = fname\n",
    "        self.last = lname\n",
    "    def fullname(self):\n",
    "        return \"%s %s\"% (self.first,self.last)\n",
    "    def dialouge_mode(self):\n",
    "        return \"The name is %(last)s, %(first)s %(last)s\" % {'first':self.first,'last':self.last}\n",
    "    def __str__(self):\n",
    "        return \"Person:\"+self.fullname()\n",
    "p = Person()\n",
    "print(p.dialouge_mode())\n",
    "p = Person(\"James\",\"Rodriguez\")\n",
    "print(p)\n",
    "p.dialouge_mode()"
   ]
  },
  {
   "cell_type": "code",
   "execution_count": 54,
   "metadata": {
    "collapsed": false
   },
   "outputs": [
    {
     "name": "stdout",
     "output_type": "stream",
     "text": [
      "Hello, Fred\n",
      "MR FRED\n",
      "get out  MR FRED\n"
     ]
    }
   ],
   "source": [
    "class Greeter(object):\n",
    "    initial = \"Mr\" #class variable\n",
    "    # Constructor\n",
    "    def __init__(self, name):\n",
    "        self.name = name  # Create an instance variable\n",
    "        \n",
    "    # Instance method\n",
    "    def greet(self, loud=False):\n",
    "        if loud:\n",
    "            print( Greeter.initial.upper(),self.name.upper())\n",
    "        else:\n",
    "            print('Hello, %s' % self.name)\n",
    "    def abuse(self,loud=True):\n",
    "        if loud:\n",
    "            print( 'get out ' ,Greeter.initial.upper(),self.name.upper())\n",
    "        else:\n",
    "            print('get out, %s' % self.name)           \n",
    "        \n",
    "g = Greeter('Fred')  # Construct an instance of the Greeter class\n",
    "g.greet()            # Call an instance method; prints \"Hello, Fred\"\n",
    "g.greet(loud=True)   # Call an instance method; prints \"HELLO, FRED!\"\n",
    "g.abuse(loud=True)\n"
   ]
  },
  {
   "cell_type": "markdown",
   "metadata": {},
   "source": [
    "## Numpy\n",
    "Provides high performance multi dimensional array objects,and tools for working with them. \n",
    "\n",
    "### ndarray\n",
    "(N dimensional Array)\n",
    "\n",
    "- numpy array is a grid of values indexed by non negative integers and all of the **same type and size**\n",
    "- the number of dimensions is the rank of array, the number of dimensions and items can be known by **shape**\n",
    "- the type of items in the array can be known by **dtype** attribute\n",
    "- we can initialise numpy array from nested python lists, and access elements using '[' bracket"
   ]
  },
  {
   "cell_type": "code",
   "execution_count": 56,
   "metadata": {
    "collapsed": false
   },
   "outputs": [
    {
     "name": "stdout",
     "output_type": "stream",
     "text": [
      "[1 2 3]\n",
      "[[ 1  2  3]\n",
      " [17 18 19]]\n",
      "type of a <class 'numpy.ndarray'>\n",
      "(3,)\n",
      "shape of b (2, 3) size of b 6\n",
      "type(a[0]),a[1] <class 'numpy.int64'> 2\n",
      "array a: [8 2 3]\n",
      "dtype int64\n",
      "[1 2 3]\n",
      "[17 18 19]\n",
      "1\n",
      "2\n",
      "17\n",
      "19\n"
     ]
    }
   ],
   "source": [
    "a = np.array([1,2,3]) # creates a rank1 array\n",
    "b = np.array([[1,2,3],[17,18,19]]) # creates a rank2 array\n",
    "print(a)\n",
    "print(b)\n",
    "print(\"type of a\",type(a)) \n",
    "print(a.shape) # tuple of integers, size of array in each dimension\n",
    "print(\"shape of b\",b.shape,\"size of b\",b.size)\n",
    "print(\"type(a[0]),a[1]\",type(a[0]),a[1])\n",
    "a[0] = 8\n",
    "print(\"array a:\",a)\n",
    "print(\"dtype\",a.dtype)\n",
    "print(b[0]) # prints 1st array [1,2,3]\n",
    "print(b[1]) # prints second list [17,18,19]\n",
    "print(b[0,0]) # prints 1st element of 1st dimension\n",
    "print(b[0,1]) # second element of 1st dimension\n",
    "print(b[1,0]) # first element of second dimension\n",
    "print(b[1,2]) # third element of second dimension\n"
   ]
  },
  {
   "cell_type": "code",
   "execution_count": 61,
   "metadata": {
    "collapsed": false
   },
   "outputs": [
    {
     "name": "stdout",
     "output_type": "stream",
     "text": [
      "(2, 3)\n",
      "b[0],b[0,0] [1 2 3] , 1 ; type of b[0],b[0,0] : <class 'numpy.ndarray'> <class 'numpy.int64'>\n",
      "(2,)\n",
      "(2,)\n",
      "b,b[0] [[1, 2, 3] [17, 18]] , [1, 2, 3] ; type of b[0]:  <class 'list'>\n"
     ]
    }
   ],
   "source": [
    "list1 = [1,2,3]\n",
    "list2 = [17,18,19]\n",
    "b = np.array([list1,list2]) # the same b as in previous block\n",
    "print(b.shape)\n",
    "print(\"b[0],b[0,0]\",b[0],\",\",b[0,0],\"; type of b[0],b[0,0] :\",type(b[0]),type(b[0,0]))\n",
    "# what if list2 and list1 differ in size\n",
    "# as per the definition numpy array is a multi dimensional container of same data type and same size\n",
    "list3 = [17,18]\n",
    "list4 = [17,18,19,20]\n",
    "b = np.array([list1,list4])\n",
    "print(b.shape)\n",
    "b = np.array([list1,list3])\n",
    "print(b.shape)\n",
    "print(\"b,b[0]\",b,\",\",b[0],\"; type of b[0]: \",type(b[0])) \n",
    "# python could have given error when size differ, but it gives array of lists,why?"
   ]
  },
  {
   "cell_type": "markdown",
   "metadata": {},
   "source": [
    "until now we have seen now ndarrays can be constructed using lists of same size and shape, other ways to create arrays is by using constructors of class ndarray"
   ]
  },
  {
   "cell_type": "markdown",
   "metadata": {},
   "source": [
    "#### Constructing array using ndarray constructors"
   ]
  },
  {
   "cell_type": "code",
   "execution_count": 65,
   "metadata": {
    "collapsed": false
   },
   "outputs": [
    {
     "name": "stdout",
     "output_type": "stream",
     "text": [
      "[[  4.94065646e-324   8.39911598e-323   9.88131292e-324]\n",
      " [  8.89318163e-323   1.48219694e-323   9.38724727e-323]]\n",
      "[2 3]\n"
     ]
    }
   ],
   "source": [
    "#help(np.ndarray)\n",
    "firstmode = np.ndarray(shape=(2,3), dtype=float, order='F')\n",
    "print(firstmode)\n",
    "secondmode = np.ndarray(shape = (2,), buffer=np.array([1,2,3]),offset=np.int_().itemsize, dtype=int)\n",
    "#whats the use of offset here, we could have used buffer+offset as buffer instead, i.e np.array([2,3]) as buffer without offset\n",
    "print(secondmode)"
   ]
  },
  {
   "cell_type": "markdown",
   "metadata": {},
   "source": [
    "*** numpy provides many functions to create an array , like:***"
   ]
  },
  {
   "cell_type": "code",
   "execution_count": 59,
   "metadata": {
    "collapsed": false
   },
   "outputs": [
    {
     "name": "stdout",
     "output_type": "stream",
     "text": [
      "(4, 4, 3)\n",
      "3\n",
      "48\n",
      "[[[ 0.  0.  0.]\n",
      "  [ 0.  0.  0.]\n",
      "  [ 0.  0.  0.]\n",
      "  [ 0.  0.  0.]]\n",
      "\n",
      " [[ 0.  0.  0.]\n",
      "  [ 0.  0.  0.]\n",
      "  [ 0.  0.  0.]\n",
      "  [ 0.  0.  0.]]\n",
      "\n",
      " [[ 0.  0.  0.]\n",
      "  [ 0.  0.  0.]\n",
      "  [ 0.  0.  0.]\n",
      "  [ 0.  0.  0.]]\n",
      "\n",
      " [[ 0.  0.  0.]\n",
      "  [ 0.  0.  0.]\n",
      "  [ 0.  0.  0.]\n",
      "  [ 0.  0.  0.]]]\n"
     ]
    }
   ],
   "source": [
    "a = np.zeros((4,4,3)) # creates a rank 3 4X4X3 array, all the values are 0\n",
    "print(a.shape)\n",
    "print(a.ndim)\n",
    "print(a.size)\n",
    "print(a)\n",
    "#print()\n",
    "#print(\"three dimensional arrays\")\n",
    "#print()\n",
    "#print(np.zeros((3,3,3)))\n",
    "#print()\n",
    "#print(\"four dimensional array\")\n",
    "#b = np.zeros((4,2,1,3))\n",
    "#print(b)"
   ]
  },
  {
   "cell_type": "code",
   "execution_count": 29,
   "metadata": {
    "collapsed": false
   },
   "outputs": [
    {
     "name": "stdout",
     "output_type": "stream",
     "text": [
      "[[ 1.  1.  1.]]\n",
      "[[ 1.  0.]\n",
      " [ 0.  1.]]\n",
      "[[ 0.14068437  0.68845297]\n",
      " [ 0.68123026  0.19128217]]\n"
     ]
    }
   ],
   "source": [
    "print(np.ones((1,3))) # ones\n",
    "print(np.eye(2)) # identity matrix of size 2\n",
    "print(np.random.random((2,2))) # random"
   ]
  },
  {
   "cell_type": "markdown",
   "metadata": {
    "collapsed": true
   },
   "source": [
    "***Arrays can have integer indexing and slice indexing just as lists***\n",
    "***since arrays can be multi dimensional, slice per each dimension is required***\n",
    "\n",
    "recall that [start:stop:step] or a[start:stop, i] or using itertools.isslice() is way to create a slice."
   ]
  },
  {
   "cell_type": "code",
   "execution_count": 64,
   "metadata": {
    "collapsed": false
   },
   "outputs": [
    {
     "name": "stdout",
     "output_type": "stream",
     "text": [
      "(3, 4)\n",
      "2\n",
      "77\n"
     ]
    }
   ],
   "source": [
    "a = np.array([[1,2,3,4], [5,6,7,8], [9,10,11,12]])\n",
    "print(a)\n",
    "b = a[:2, 1:3]\n",
    "# A slice of an array is a view into the same data, so modifying it\n",
    "# will modify the original array.\n",
    "print(a[0, 1])   # Prints \"2\"\n",
    "b[0, 0] = 77    # b[0, 0] is the same piece of data as a[0, 1]\n",
    "print(a[0, 1])"
   ]
  },
  {
   "cell_type": "markdown",
   "metadata": {},
   "source": [
    "***Mixing integer and slice indexing***"
   ]
  },
  {
   "cell_type": "code",
   "execution_count": 66,
   "metadata": {
    "collapsed": false
   },
   "outputs": [
    {
     "name": "stdout",
     "output_type": "stream",
     "text": [
      "[5 6 7 8] (4,)\n",
      "[[5 6 7 8]] (1, 4)\n",
      "[ 2  6 10] (3,)\n",
      "[[ 2]\n",
      " [ 6]\n",
      " [10]] (3, 1)\n"
     ]
    }
   ],
   "source": [
    "\n",
    "a = np.array([[1,2,3,4], [5,6,7,8], [9,10,11,12]])\n",
    "\n",
    "# Two ways of accessing the data in the middle row of the array.\n",
    "# Mixing integer indexing with slices yields an array of lower rank,\n",
    "# while using only slices yields an array of the same rank as the\n",
    "# original array:\n",
    "row_r1 = a[1, :]    # Rank 1 view of the second row of a  \n",
    "row_r2 = a[1:2, :]  # Rank 2 view of the second row of a\n",
    "print(row_r1, row_r1.shape)  # Prints \"[5 6 7 8] (4,)\"\n",
    "print(row_r2, row_r2.shape)  # Prints \"[[5 6 7 8]] (1, 4)\"\n",
    "\n",
    "# We can make the same distinction when accessing columns of an array:\n",
    "col_r1 = a[:, 1]\n",
    "col_r2 = a[:, 1:2]\n",
    "print(col_r1, col_r1.shape)  # Prints \"[ 2  6 10] (3,)\"\n",
    "print(col_r2, col_r2.shape)  # Prints \"[[ 2]\n",
    "                            #          [ 6]\n",
    "                            #          [10]] (3, 1)\"\n",
    "\n"
   ]
  },
  {
   "cell_type": "markdown",
   "metadata": {},
   "source": [
    "Summary\n",
    "- basic slicing takes form array[start:stop:steps] \n",
    "- all arrays created by basic slicing are views of original arrays\n",
    "- changing the value in a view chages the value in original array"
   ]
  },
  {
   "cell_type": "markdown",
   "metadata": {},
   "source": [
    "**Integer array indexing** : \n",
    "\n",
    "When you index into numpy arrays using slicing, the resulting array view will always be a subarray of the original array. \n",
    "\n",
    "In contrast, integer array indexing allows you to construct arbitrary arrays using the data from another array. Here is an example"
   ]
  },
  {
   "cell_type": "code",
   "execution_count": 81,
   "metadata": {
    "collapsed": false
   },
   "outputs": [
    {
     "name": "stdout",
     "output_type": "stream",
     "text": [
      "[1 4 5]\n",
      "[1 4 5]\n",
      "[2 2]\n",
      "[2 2]\n"
     ]
    }
   ],
   "source": [
    "\n",
    "a = np.array([[1,2], [3, 4], [5, 6]])\n",
    "\n",
    "# An example of integer array indexing.\n",
    "# The returned array will have shape (3,) and \n",
    "print(a[[0, 1, 2], [0, 1, 0]])  # Prints \"[1 4 5]\")\n",
    "\n",
    "# The above example of integer array indexing is equivalent to this:\n",
    "print(np.array([a[0, 0], a[1, 1], a[2, 0]]))  # Prints \"[1 4 5]\"\n",
    "\n",
    "# When using integer array indexing, you can reuse the same\n",
    "# element from the source array:\n",
    "print(a[[0, 0], [1, 1]])  # Prints \"[2 2]\"\n",
    "\n",
    "# Equivalent to the previous integer array indexing example\n",
    "#temp = np.array([a[0, 1], a[0, 1]]) \n",
    "print(np.array([a[0, 1], a[0, 1]]))  # Prints \"[2 2]\"\n",
    "\n"
   ]
  },
  {
   "cell_type": "markdown",
   "metadata": {},
   "source": [
    "one useful trick of integer array indexing is selecting or mutating one element of each row"
   ]
  },
  {
   "cell_type": "code",
   "execution_count": 99,
   "metadata": {
    "collapsed": false
   },
   "outputs": [
    {
     "name": "stdout",
     "output_type": "stream",
     "text": [
      "[[ 1  2  3]\n",
      " [ 4  5  6]\n",
      " [ 7  8  9]\n",
      " [10 11 12]]\n",
      "[ 1  6  7 11]\n",
      "[[11  2  3]\n",
      " [ 4  5 16]\n",
      " [17  8  9]\n",
      " [10 21 12]]\n"
     ]
    }
   ],
   "source": [
    "a = np.array([[1,2,3], [4,5,6], [7,8,9], [10, 11, 12]])\n",
    "\n",
    "print(a)  # prints \"array([[ 1,  2,  3],\n",
    "         #                [ 4,  5,  6],\n",
    "         #                [ 7,  8,  9],\n",
    "         #                [10, 11, 12]])\"\n",
    "# Create an array of indices\n",
    "b = np.array([0, 2, 0, 1])\n",
    "\n",
    "# Select one element from each row of a using the indices in b\n",
    "print(a[np.arange(4), b])  # Prints \"[ 1  6  7 11]\"\n",
    "\n",
    "# Mutate one element from each row of a using the indices in b\n",
    "a[np.arange(4), b] += 10\n",
    "\n",
    "print(a)  # prints \"array([[11,  2,  3],\n",
    "         #                [ 4,  5, 16],\n",
    "         #                [17,  8,  9],\n",
    "         #                [10, 21, 12]]"
   ]
  },
  {
   "cell_type": "markdown",
   "metadata": {},
   "source": [
    "Boolean array indexing:\n",
    "Boolean array indexing lets you pick out arbitrary elements of an array.\n",
    "\n",
    "Frequently this type of indexing is used to select the elements of an array that satisfy some condition. Here is an example:"
   ]
  },
  {
   "cell_type": "code",
   "execution_count": 100,
   "metadata": {
    "collapsed": false
   },
   "outputs": [
    {
     "name": "stdout",
     "output_type": "stream",
     "text": [
      "[[False False]\n",
      " [ True  True]\n",
      " [ True  True]]\n",
      "[3 4 5 6]\n",
      "[3 4 5 6]\n"
     ]
    }
   ],
   "source": [
    "\n",
    "a = np.array([[1,2], [3, 4], [5, 6]])\n",
    "\n",
    "bool_idx = (a > 2)  # Find the elements of a that are bigger than 2;\n",
    "                    # this returns a numpy array of Booleans of the same\n",
    "                    # shape as a, where each slot of bool_idx tells\n",
    "                    # whether that element of a is > 2.\n",
    "            \n",
    "print(bool_idx)      # Prints \"[[False False]\n",
    "                    #          [ True  True]\n",
    "                    #          [ True  True]]\"\n",
    "\n",
    "# We use boolean array indexing to construct a rank 1 array\n",
    "# consisting of the elements of a corresponding to the True values\n",
    "# of bool_idx\n",
    "print(a[bool_idx])  # Prints \"[3 4 5 6]\"\n",
    "\n",
    "# We can do all of the above in a single concise statement:\n",
    "print(a[a > 2])     # Prints \"[3 4 5 6]\"\n"
   ]
  },
  {
   "cell_type": "markdown",
   "metadata": {},
   "source": [
    "full reference for numpy array indexing https://docs.scipy.org/doc/numpy/reference/arrays.indexing.html"
   ]
  },
  {
   "cell_type": "markdown",
   "metadata": {},
   "source": [
    "### Array math\n",
    "\n",
    "Basic mathematical functions operate elementwise on arrays, and are available both as operator overloads and as functions in the numpy module:"
   ]
  },
  {
   "cell_type": "code",
   "execution_count": 103,
   "metadata": {
    "collapsed": false
   },
   "outputs": [
    {
     "name": "stdout",
     "output_type": "stream",
     "text": [
      "[[  6.   8.]\n",
      " [ 10.  12.]]\n",
      "[[  6.   8.]\n",
      " [ 10.  12.]]\n",
      "[[-4. -4.]\n",
      " [-4. -4.]]\n",
      "[[-4. -4.]\n",
      " [-4. -4.]]\n",
      "[[  5.  12.]\n",
      " [ 21.  32.]]\n",
      "[[  5.  12.]\n",
      " [ 21.  32.]]\n",
      "[[ 0.2         0.33333333]\n",
      " [ 0.42857143  0.5       ]]\n",
      "[[ 0.2         0.33333333]\n",
      " [ 0.42857143  0.5       ]]\n",
      "[[ 1.          1.41421356]\n",
      " [ 1.73205081  2.        ]]\n"
     ]
    }
   ],
   "source": [
    "\n",
    "x = np.array([[1,2],[3,4]], dtype=np.float64)\n",
    "y = np.array([[5,6],[7,8]], dtype=np.float64)\n",
    "\n",
    "# Elementwise sum; both produce the array\n",
    "# [[ 6.0  8.0]\n",
    "#  [10.0 12.0]]\n",
    "print(x + y)\n",
    "print(np.add(x, y))\n",
    "\n",
    "# Elementwise difference; both produce the array\n",
    "# [[-4.0 -4.0]\n",
    "#  [-4.0 -4.0]]\n",
    "print(x - y)\n",
    "print(np.subtract(x, y))\n",
    "\n",
    "# Elementwise product; both produce the array\n",
    "# [[ 5.0 12.0]\n",
    "#  [21.0 32.0]]\n",
    "print(x * y)\n",
    "print(np.multiply(x, y))\n",
    "\n",
    "# Elementwise division; both produce the array\n",
    "# [[ 0.2         0.33333333]\n",
    "#  [ 0.42857143  0.5       ]]\n",
    "print(x / y)\n",
    "print(np.divide(x, y))\n",
    "\n",
    "# Elementwise square root; produces the array\n",
    "# [[ 1.          1.41421356]\n",
    "#  [ 1.73205081  2.        ]]\n",
    "print(np.sqrt(x))"
   ]
  },
  {
   "cell_type": "markdown",
   "metadata": {},
   "source": [
    "Note that * is elementwise multiplication, not matrix multiplication. We instead use the dot function to compute inner products of vectors, to multiply a vector by a matrix, and to multiply matrices. dot is available both as a function in the numpy module and as an instance method of array objects:"
   ]
  },
  {
   "cell_type": "code",
   "execution_count": 104,
   "metadata": {
    "collapsed": false
   },
   "outputs": [
    {
     "name": "stdout",
     "output_type": "stream",
     "text": [
      "219\n",
      "219\n",
      "[29 67]\n",
      "[29 67]\n",
      "[[19 22]\n",
      " [43 50]]\n",
      "[[19 22]\n",
      " [43 50]]\n"
     ]
    }
   ],
   "source": [
    "x = np.array([[1,2],[3,4]])\n",
    "y = np.array([[5,6],[7,8]])\n",
    "\n",
    "v = np.array([9,10])\n",
    "w = np.array([11, 12])\n",
    "\n",
    "# Inner product of vectors; both produce 219\n",
    "print(v.dot(w))\n",
    "print(np.dot(v, w))\n",
    "\n",
    "# Matrix / vector product; both produce the rank 1 array [29 67]\n",
    "print(x.dot(v))\n",
    "print(np.dot(x, v))\n",
    "\n",
    "# Matrix / matrix product; both produce the rank 2 array\n",
    "# [[19 22]\n",
    "#  [43 50]]\n",
    "print(x.dot(y))\n",
    "print(np.dot(x, y))\n",
    "\n"
   ]
  },
  {
   "cell_type": "markdown",
   "metadata": {},
   "source": [
    "Numpy provides many useful functions for performing computations on arrays; one of the most useful is sum, mean"
   ]
  },
  {
   "cell_type": "code",
   "execution_count": 114,
   "metadata": {
    "collapsed": false
   },
   "outputs": [
    {
     "name": "stdout",
     "output_type": "stream",
     "text": [
      "21\n",
      "[ 9 12]\n",
      "(3, 2)\n",
      "[ 3  7 11]\n",
      "[ 3.  4.]\n"
     ]
    },
    {
     "data": {
      "text/plain": [
       "3.5"
      ]
     },
     "execution_count": 114,
     "metadata": {},
     "output_type": "execute_result"
    }
   ],
   "source": [
    "x = np.array([[1,2],[3,4],[5,6]])\n",
    "\n",
    "print(np.sum(x))  # Compute sum of all elements; prints \"10\"\n",
    "print(np.sum(x, axis=0))  # Compute sum of each column; prints \"[9 12]\"\n",
    "print(x.shape) 3 #note: even though shape outputs (rows,columns) axis 0 is column.\n",
    "print(np.sum(x, axis=1))  # Compute sum of each row; prints \"[3 7]\"\n",
    "print(np.mean(x,axis=0))\n",
    "np.mean(x)"
   ]
  },
  {
   "cell_type": "markdown",
   "metadata": {},
   "source": [
    "You can find the full list of mathematical functions provided by numpy in the documentation.\n",
    "https://docs.scipy.org/doc/numpy/reference/routines.math.html\n",
    "\n",
    "Apart from computing mathematical functions using arrays, we frequently need to reshape or otherwise manipulate data in arrays. The simplest example of this type of operation is transposing a matrix; to transpose a matrix, simply use the T attribute of an array object:"
   ]
  },
  {
   "cell_type": "code",
   "execution_count": 116,
   "metadata": {
    "collapsed": false
   },
   "outputs": [
    {
     "name": "stdout",
     "output_type": "stream",
     "text": [
      "[[1 2]\n",
      " [3 4]]\n",
      "[[1 3]\n",
      " [2 4]]\n",
      "[1 2 3]\n",
      "[1 2 3]\n"
     ]
    }
   ],
   "source": [
    "x = np.array([[1,2], [3,4]])\n",
    "print (x)    # Prints \"[[1 2]\n",
    "           #          [3 4]]\"\n",
    "print(x.T)  # Prints \"[[1 3]\n",
    "           #          [2 4]]\"\n",
    "\n",
    "# Note that taking the transpose of a rank 1 array does nothing:\n",
    "v = np.array([1,2,3])\n",
    "print(v)    # Prints \"[1 2 3]\"\n",
    "print(v.T)  # Prints \"[1 2 3]\""
   ]
  },
  {
   "cell_type": "markdown",
   "metadata": {
    "collapsed": true
   },
   "source": [
    "### Broadcasting\n",
    "\n",
    "Broadcasting is a powerful mechanism that allows numpy to work with arrays of different shapes when performing arithmetic operations. Frequently we have a smaller array and a larger array, and we want to use the smaller array multiple times to perform some operation on the larger array.\n",
    "\n",
    "For example, suppose that we want to add a constant vector to each row of a matrix. We could do it like this:"
   ]
  },
  {
   "cell_type": "code",
   "execution_count": 118,
   "metadata": {
    "collapsed": false
   },
   "outputs": [
    {
     "name": "stdout",
     "output_type": "stream",
     "text": [
      "[[ 2  2  4]\n",
      " [ 5  5  7]\n",
      " [ 8  8 10]\n",
      " [11 11 13]]\n"
     ]
    }
   ],
   "source": [
    "\n",
    "# We will add the vector v to each row of the matrix x,\n",
    "# storing the result in the matrix y\n",
    "x = np.array([[1,2,3], [4,5,6], [7,8,9], [10, 11, 12]])\n",
    "v = np.array([1, 0, 1])\n",
    "y = np.empty_like(x)   # Create an empty matrix with the same shape as x\n",
    "\n",
    "# Add the vector v to each row of the matrix x with an explicit loop\n",
    "for i in range(x.shape[0]):\n",
    "    y[i, :] = x[i, :] + v\n",
    "\n",
    "# Now y is the following\n",
    "# [[ 2  2  4]\n",
    "#  [ 5  5  7]\n",
    "#  [ 8  8 10]\n",
    "#  [11 11 13]]\n",
    "print(y)\n",
    "\n"
   ]
  },
  {
   "cell_type": "markdown",
   "metadata": {},
   "source": [
    "This works; however when the matrix x is very large, computing an explicit loop in Python could be slow. Note that adding the vector v to each row of the matrix x is equivalent to forming a matrix vv by stacking multiple copies of v vertically, then performing elementwise summation of x and vv. We could implement this approach like this:"
   ]
  },
  {
   "cell_type": "code",
   "execution_count": 119,
   "metadata": {
    "collapsed": false
   },
   "outputs": [
    {
     "name": "stdout",
     "output_type": "stream",
     "text": [
      "[[1 0 1]\n",
      " [1 0 1]\n",
      " [1 0 1]\n",
      " [1 0 1]]\n",
      "[[ 2  2  4]\n",
      " [ 5  5  7]\n",
      " [ 8  8 10]\n",
      " [11 11 13]]\n"
     ]
    }
   ],
   "source": [
    "\n",
    "# We will add the vector v to each row of the matrix x,\n",
    "# storing the result in the matrix y\n",
    "x = np.array([[1,2,3], [4,5,6], [7,8,9], [10, 11, 12]])\n",
    "v = np.array([1, 0, 1])\n",
    "vv = np.tile(v, (4, 1))  # Stack 4 copies of v on top of each other\n",
    "print(vv)                 # Prints \"[[1 0 1]\n",
    "                         #          [1 0 1]\n",
    "                         #          [1 0 1]\n",
    "                         #          [1 0 1]]\"\n",
    "y = x + vv  # Add x and vv elementwise\n",
    "print(y)  # Prints \"[[ 2  2  4\n",
    "         #          [ 5  5  7]\n",
    "         #          [ 8  8 10]\n",
    "         #          [11 11 13]]\"\n"
   ]
  },
  {
   "cell_type": "markdown",
   "metadata": {},
   "source": [
    "Numpy broadcasting allows us to perform this computation without actually creating multiple copies of v. Consider this version, using broadcasting:"
   ]
  },
  {
   "cell_type": "code",
   "execution_count": 120,
   "metadata": {
    "collapsed": false
   },
   "outputs": [
    {
     "name": "stdout",
     "output_type": "stream",
     "text": [
      "[[ 2  2  4]\n",
      " [ 5  5  7]\n",
      " [ 8  8 10]\n",
      " [11 11 13]]\n"
     ]
    }
   ],
   "source": [
    "# We will add the vector v to each row of the matrix x,\n",
    "# storing the result in the matrix y\n",
    "x = np.array([[1,2,3], [4,5,6], [7,8,9], [10, 11, 12]])\n",
    "v = np.array([1, 0, 1])\n",
    "y = x + v  # Add v to each row of x using broadcasting\n",
    "print(y)  # Prints \"[[ 2  2  4]\n",
    "         #          [ 5  5  7]\n",
    "         #          [ 8  8 10]\n",
    "         #          [11 11 13]]\""
   ]
  },
  {
   "cell_type": "markdown",
   "metadata": {},
   "source": [
    "The line y = x + v works even though x has shape (4, 3) and v has shape (3,) due to broadcasting; this line works as if v actually had shape (4, 3), where each row was a copy of v, and the sum was performed elementwise.\n",
    "\n",
    "Functions that support broadcasting are known as universal functions. You can find the list of all universal functions in the documentation  https://docs.scipy.org/doc/numpy/reference/ufuncs.html#available-ufuncs\n",
    "\n",
    "Here are some applications of broadcasting:"
   ]
  },
  {
   "cell_type": "code",
   "execution_count": 130,
   "metadata": {
    "collapsed": false
   },
   "outputs": [
    {
     "name": "stdout",
     "output_type": "stream",
     "text": [
      "[[ 4  5]\n",
      " [ 8 10]\n",
      " [12 15]]\n",
      "using dot operator\n",
      "TEMP\n",
      "[[1]\n",
      " [2]\n",
      " [3]]\n",
      "[[ 4  5]\n",
      " [ 8 10]\n",
      " [12 15]]\n",
      "[[ 4  5]\n",
      " [ 8 10]\n",
      " [12 15]]\n",
      "[[2 4 6]\n",
      " [5 7 9]]\n",
      "[[ 5  6  7]\n",
      " [ 9 10 11]]\n",
      "[[ 5  6  7]\n",
      " [ 9 10 11]]\n",
      "[[ 2  4  6]\n",
      " [ 8 10 12]]\n"
     ]
    }
   ],
   "source": [
    "# Compute outer product of vectors\n",
    "v = np.array([1,2,3])  # v has shape (3,)\n",
    "w = np.array([4,5])    # w has shape (2,)\n",
    "# To compute an outer product, we first reshape v to be a column\n",
    "# vector of shape (3, 1); we can then broadcast it against w to yield\n",
    "# an output of shape (3, 2), which is the outer product of v and w:\n",
    "# [[ 4  5]\n",
    "#  [ 8 10]\n",
    "#  [12 15]]\n",
    "print(np.reshape(v, (3, 1)) * w) \n",
    "\n",
    "print(\"using dot operator\")\n",
    "temp = np.reshape(v,(3,1))\n",
    "temp2 = np.reshape(w,(1,2))\n",
    "print(\"TEMP\")\n",
    "print(temp)\n",
    "print(temp*w)\n",
    "print(temp.dot(temp2)) # WHY * and dot GIVING THE SAME OUTPUT?\n",
    "\n",
    "# Add a vector to each row of a matrix\n",
    "x = np.array([[1,2,3], [4,5,6]])\n",
    "# x has shape (2, 3) and v has shape (3,) so they broadcast to (2, 3),\n",
    "# giving the following matrix:\n",
    "# [[2 4 6]\n",
    "#  [5 7 9]]\n",
    "print(x + v)\n",
    "\n",
    "# Add a vector to each column of a matrix\n",
    "# x has shape (2, 3) and w has shape (2,).\n",
    "# If we transpose x then it has shape (3, 2) and can be broadcast\n",
    "# against w to yield a result of shape (3, 2); transposing this result\n",
    "# yields the final result of shape (2, 3) which is the matrix x with\n",
    "# the vector w added to each column. Gives the following matrix:\n",
    "# [[ 5  6  7]\n",
    "#  [ 9 10 11]]\n",
    "print((x.T + w).T)\n",
    "# Another solution is to reshape w to be a row vector of shape (2, 1);\n",
    "# we can then broadcast it directly against x to produce the same\n",
    "# output.\n",
    "print(x + np.reshape(w, (2, 1)))\n",
    "\n",
    "# Multiply a matrix by a constant:\n",
    "# x has shape (2, 3). Numpy treats scalars as arrays of shape ();\n",
    "# these can be broadcast together to shape (2, 3), producing the\n",
    "# following array:\n",
    "# [[ 2  4  6]\n",
    "#  [ 8 10 12]]\n",
    "print(x * 2)\n"
   ]
  },
  {
   "cell_type": "markdown",
   "metadata": {},
   "source": [
    "Broadcasting typically makes your code more concise and faster, so you should strive to use it where possible."
   ]
  },
  {
   "cell_type": "markdown",
   "metadata": {},
   "source": [
    "## SciPy\n",
    "\n",
    "Numpy provides a high-performance multidimensional array and basic tools to compute with and manipulate these arrays. SciPy builds on this, and provides a large number of functions that operate on numpy arrays and are useful for different types of scientific and engineering applications.\n",
    "\n",
    "The best way to get familiar with SciPy is to browse the documentation https://docs.scipy.org/doc/scipy/reference/index.html."
   ]
  },
  {
   "cell_type": "markdown",
   "metadata": {},
   "source": [
    "### Image operations\n",
    "\n",
    "SciPy provides some basic functions to work with images. For example, it has functions to read images from disk into numpy arrays, to write numpy arrays to disk as images, and to resize images. Here is a simple example that showcases these functions:"
   ]
  },
  {
   "cell_type": "code",
   "execution_count": 160,
   "metadata": {
    "collapsed": false
   },
   "outputs": [
    {
     "name": "stdout",
     "output_type": "stream",
     "text": [
      "uint8 (1080, 607, 3)\n"
     ]
    },
    {
     "data": {
      "image/png": "[encoded data removed]",
      "text/plain": [
       "<matplotlib.figure.Figure at 0x7f1d08f0ba58>"
      ]
     },
     "metadata": {},
     "output_type": "display_data"
    }
   ],
   "source": [
    "from scipy.misc import imread, imsave, imresize,imshow\n",
    "\n",
    "# Read an JPEG image into a numpy array\n",
    "img = imread('maya.jpeg')\n",
    "print(img.dtype, img.shape)  # Prints \"uint8 (1080, 607, 3)\"\n",
    "\n",
    "# We can tint the image by scaling each of the color channels\n",
    "# by a different scalar constant. The image has shape (1080, 607, 3);\n",
    "# we multiply it by the array [1, 0.95, 0.9] of shape (3,);\n",
    "# numpy broadcasting means that this leaves the red channel unchanged,\n",
    "# and multiplies the green and blue channels by 0.95 and 0.9\n",
    "# respectively.\n",
    "img_tinted = img * [1, 0.95, 0.9]\n",
    "\n",
    "# Resize the tinted image to be 300 by 300 pixels.\n",
    "img_tinted = imresize(img_tinted, (300, 300))\n",
    "\n",
    "# Write the tinted image back to disk\n",
    "imsave('maya_tinted.jpeg', img_tinted)\n",
    "\n",
    "#imshow(img)\n",
    "\n",
    "#from PIL import Image\n",
    "#pil_im = Image.open('maya.jpeg', 'r')\n",
    "#pil_im1 = Image.open('maya_tinted.jpeg', 'r')\n",
    "#plt.imshow(np.asarray(pil_im))\n",
    "#plt.imshow(np.asarray(pil_im1))\n",
    "\n",
    "# Show the original image\n",
    "plt.subplot(1, 2, 1)\n",
    "plt.imshow(img)\n",
    "\n",
    "# Show the tinted image\n",
    "plt.subplot(1, 2, 2)\n",
    "\n",
    "# A slight gotcha with imshow is that it might give strange results\n",
    "# if presented with data that is not uint8. To work around this, we\n",
    "# explicitly cast the image to uint8 before displaying it.\n",
    "plt.imshow(np.uint8(img_tinted))\n",
    "plt.show()\n",
    "\n",
    "# section below for matplotlib.subplot\n",
    "\n"
   ]
  },
  {
   "cell_type": "markdown",
   "metadata": {},
   "source": [
    "## Matplotlib\n",
    "\n",
    "Matplotlib is a plotting library. In this section give a brief introduction to the matplotlib.pyplot module, which provides a plotting system similar to that of MATLAB."
   ]
  },
  {
   "cell_type": "markdown",
   "metadata": {},
   "source": [
    "Plotting\n",
    "\n",
    "The most important function in matplotlib is plot, which allows you to plot 2D data. Here is a simple example:"
   ]
  },
  {
   "cell_type": "code",
   "execution_count": 161,
   "metadata": {
    "collapsed": false
   },
   "outputs": [
    {
     "data": {
      "image/png": "[encoded data removed]",
      "text/plain": [
       "<matplotlib.figure.Figure at 0x7f1d08e68400>"
      ]
     },
     "metadata": {},
     "output_type": "display_data"
    }
   ],
   "source": [
    "# Compute the x and y coordinates for points on a sine curve\n",
    "x = np.arange(0, 3 * np.pi, 0.1)\n",
    "y = np.sin(x)\n",
    "\n",
    "# Plot the points using matplotlib\n",
    "plt.plot(x, y)\n",
    "plt.show()  # You must call plt.show() to make graphics appear.\n"
   ]
  },
  {
   "cell_type": "markdown",
   "metadata": {
    "collapsed": true
   },
   "source": [
    "With just a little bit of extra work we can easily plot multiple lines at once, and add a title, legend, and axis labels:"
   ]
  },
  {
   "cell_type": "code",
   "execution_count": 162,
   "metadata": {
    "collapsed": false
   },
   "outputs": [
    {
     "data": {
      "image/png": "[encoded data removed]",
      "text/plain": [
       "<matplotlib.figure.Figure at 0x7f1d08f94e48>"
      ]
     },
     "metadata": {},
     "output_type": "display_data"
    }
   ],
   "source": [
    "# Compute the x and y coordinates for points on sine and cosine curves\n",
    "x = np.arange(0, 3 * np.pi, 0.1)\n",
    "y_sin = np.sin(x)\n",
    "y_cos = np.cos(x)\n",
    "\n",
    "# Plot the points using matplotlib\n",
    "plt.plot(x, y_sin)\n",
    "plt.plot(x, y_cos)\n",
    "plt.xlabel('x axis label')\n",
    "plt.ylabel('y axis label')\n",
    "plt.title('Sine and Cosine')\n",
    "plt.legend(['Sine', 'Cosine'])\n",
    "plt.show()\n"
   ]
  },
  {
   "cell_type": "markdown",
   "metadata": {
    "collapsed": true
   },
   "source": [
    "#### Subplots\n",
    "\n",
    "You can plot different things in the same figure using the subplot function. Here is an example:"
   ]
  },
  {
   "cell_type": "code",
   "execution_count": 163,
   "metadata": {
    "collapsed": false
   },
   "outputs": [
    {
     "data": {
      "image/png": "[encoded data removed]",
      "text/plain": [
       "<matplotlib.figure.Figure at 0x7f1d09049048>"
      ]
     },
     "metadata": {},
     "output_type": "display_data"
    }
   ],
   "source": [
    "# Compute the x and y coordinates for points on sine and cosine curves\n",
    "x = np.arange(0, 3 * np.pi, 0.1)\n",
    "y_sin = np.sin(x)\n",
    "y_cos = np.cos(x)\n",
    "\n",
    "# Set up a subplot grid that has height 2 and width 1,\n",
    "# and set the first such subplot as active.\n",
    "plt.subplot(2, 1, 1)\n",
    "\n",
    "# Make the first plot\n",
    "plt.plot(x, y_sin)\n",
    "plt.title('Sine')\n",
    "\n",
    "# Set the second subplot as active, and make the second plot.\n",
    "plt.subplot(2, 1, 2)\n",
    "plt.plot(x, y_cos)\n",
    "plt.title('Cosine')\n",
    "\n",
    "# Show the figure.\n",
    "plt.show()\n",
    "\n"
   ]
  }
 ],
 "metadata": {
  "kernelspec": {
   "display_name": "Python 3",
   "language": "python",
   "name": "python3"
  },
  "language_info": {
   "codemirror_mode": {
    "name": "ipython",
    "version": 3
   },
   "file_extension": ".py",
   "mimetype": "text/x-python",
   "name": "python",
   "nbconvert_exporter": "python",
   "pygments_lexer": "ipython3",
   "version": "3.6.0"
  }
 },
 "nbformat": 4,
 "nbformat_minor": 2
}
